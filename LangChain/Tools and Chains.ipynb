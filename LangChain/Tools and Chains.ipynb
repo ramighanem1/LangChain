{
 "cells": [
  {
   "cell_type": "code",
   "execution_count": 9,
   "id": "05d7f53e",
   "metadata": {},
   "outputs": [],
   "source": [
    "import os\n",
    "\n",
    "os.environ['OPENAI_API_KEY'] = ''\n",
    "os.environ['HUGGINGFACEHUB_API_TOKEN'] = ''\n"
   ]
  },
  {
   "cell_type": "code",
   "execution_count": null,
   "id": "16ddabe5",
   "metadata": {},
   "outputs": [],
   "source": []
  },
  {
   "cell_type": "code",
   "execution_count": 10,
   "id": "fad4c4a5",
   "metadata": {},
   "outputs": [],
   "source": [
    "from langchain.prompts import PromptTemplate\n",
    "from langchain.llms import OpenAI\n",
    "from langchain.chains import LLMChain"
   ]
  },
  {
   "cell_type": "code",
   "execution_count": 11,
   "id": "f2891931",
   "metadata": {},
   "outputs": [],
   "source": [
    "llm = OpenAI(model_name='text-davinci-003', \n",
    "             temperature=0, \n",
    "             max_tokens = 256)"
   ]
  },
  {
   "cell_type": "code",
   "execution_count": 12,
   "id": "f1026342",
   "metadata": {},
   "outputs": [],
   "source": [
    "article = '''Coinbase, the second-largest crypto exchange by trading volume, released its Q4 2022 earnings on Tuesday, giving shareholders and market players alike an updated look into its financials. In response to the report, the company's shares are down modestly in early after-hours trading.In the fourth quarter of 2022, Coinbase generated $605 million in total revenue, down sharply from $2.49 billion in the year-ago quarter. Coinbase's top line was not enough to cover its expenses: The company lost $557 million in the three-month period on a GAAP basis (net income) worth -$2.46 per share, and an adjusted EBITDA deficit of $124 million.Wall Street expected Coinbase to report $581.2 million in revenue and earnings per share of -$2.44 with adjusted EBITDA of -$201.8 million driven by 8.4 million monthly transaction users (MTUs), according to data provided by Yahoo Finance.Before its Q4 earnings were released, Coinbase's stock had risen 86% year-to-date. Even with that rally, the value of Coinbase when measured on a per-share basis is still down significantly from its 52-week high of $206.79.That Coinbase beat revenue expectations is notable in that it came with declines in trading volume; Coinbase historically generated the bulk of its revenues from trading fees, making Q4 2022 notable. Consumer trading volumes fell from $26 billion in the third quarter of last year to $20 billion in Q4, while institutional volumes across the same timeframe fell from $133 billion to $125 billion.The overall crypto market capitalization fell about 64%, or $1.5 trillion during 2022, which resulted in Coinbase's total trading volumes and transaction revenues to fall 50% and 66% year-over-year, respectively, the company reported.As you would expect with declines in trading volume, trading revenue at Coinbase fell in Q4 compared to the third quarter of last year, dipping from $365.9 million to $322.1 million. (TechCrunch is comparing Coinbase's Q4 2022 results to Q3 2022 instead of Q4 2021, as the latter comparison would be less useful given how much the crypto market has changed in the last year; we're all aware that overall crypto activity has fallen from the final months of 2021.)There were bits of good news in the Coinbase report. While Coinbase's trading revenues were less than exuberant, the company's other revenues posted gains. What Coinbase calls its \"subscription and services revenue\" rose from $210.5 million in Q3 2022 to $282.8 million in Q4 of the same year, a gain of just over 34% in a single quarter.And even as the crypto industry faced a number of catastrophic events, including the Terra/LUNA and FTX collapses to name a few, there was still growth in other areas. The monthly active developers in crypto have more than doubled since 2020 to over 20,000, while major brands like Starbucks, Nike and Adidas have dived into the space alongside social media platforms like Instagram and Reddit.With big players getting into crypto, industry players are hoping this move results in greater adoption both for product use cases and trading volumes. Although there was a lot of movement from traditional retail markets and Web 2.0 businesses, trading volume for both consumer and institutional users fell quarter-over-quarter for Coinbase.Looking forward, it'll be interesting to see if these pieces pick back up and trading interest reemerges in 2023, or if platforms like Coinbase will have to keep looking elsewhere for revenue (like its subscription service) if users continue to shy away from the market.\n",
    "'''"
   ]
  },
  {
   "cell_type": "code",
   "execution_count": 13,
   "id": "44aca0f7",
   "metadata": {},
   "outputs": [
    {
     "data": {
      "text/plain": [
       "3533"
      ]
     },
     "execution_count": 13,
     "metadata": {},
     "output_type": "execute_result"
    }
   ],
   "source": [
    "len(article)"
   ]
  },
  {
   "cell_type": "code",
   "execution_count": 14,
   "id": "bae6b466",
   "metadata": {},
   "outputs": [],
   "source": [
    "fact_extraction_prompt = PromptTemplate(\n",
    "    input_variables=[\"text_input\"],\n",
    "    template=\"Extract the key facts out of this text. Don't include opinions. Give each fact a number and keep them short sentences. :\\n\\n {text_input}\"\n",
    ")"
   ]
  },
  {
   "cell_type": "code",
   "execution_count": 15,
   "id": "cf09de71",
   "metadata": {},
   "outputs": [
    {
     "name": "stdout",
     "output_type": "stream",
     "text": [
      "\n",
      "1. Coinbase released its Q4 2022 earnings on Tuesday.\n",
      "2. Coinbase generated $605 million in total revenue in Q4 2022.\n",
      "3. Coinbase lost $557 million in the three-month period on a GAAP basis.\n",
      "4. Wall Street expected Coinbase to report $581.2 million in revenue.\n",
      "5. Coinbase's stock had risen 86% year-to-date before its Q4 earnings were released.\n",
      "6. Consumer trading volumes fell from $26 billion in Q3 2022 to $20 billion in Q4 2022.\n",
      "7. Institutional volumes across the same timeframe fell from $133 billion to $125 billion.\n",
      "8. The overall crypto market capitalization fell about 64%, or $1.5 trillion during 2022.\n",
      "9. Coinbase's total trading volumes and transaction revenues fell 50% and 66% year-over-year, respectively.\n",
      "10. Trading revenue at Coinbase fell from $365.9 million in Q3 2022 to $322.1 million in Q4 2022.\n",
      "11. Coinbase's \"subscription and services revenue\" rose from $210.5 million in Q3 2022 to $282.8 million in Q4 2022.\n",
      "12. Monthly active developers in crypto have more than doubled since\n"
     ]
    }
   ],
   "source": [
    "fact_extraction_chain = LLMChain(llm=llm, prompt=fact_extraction_prompt)\n",
    "\n",
    "facts = fact_extraction_chain.run(article)\n",
    "\n",
    "print(facts)"
   ]
  },
  {
   "cell_type": "code",
   "execution_count": 16,
   "id": "99905f52",
   "metadata": {},
   "outputs": [
    {
     "name": "stdout",
     "output_type": "stream",
     "text": [
      "\n",
      "1. Coinbase released its Q4 2022 earnings on Tuesday.\n",
      "2. Coinbase generated $605 million in total revenue in Q4 2022.\n",
      "3. Coinbase lost $557 million in the three-month period on a GAAP basis.\n",
      "4. Wall Street expected Coinbase to report $581.2 million in revenue.\n",
      "5. Coinbase's stock had risen 86% year-to-date before its Q4 earnings were released.\n",
      "6. Consumer trading volumes fell from $26 billion in Q3 2022 to $20 billion in Q4 2022.\n",
      "7. Institutional volumes across the same timeframe fell from $133 billion to $125 billion.\n",
      "8. The overall crypto market capitalization fell about 64%, or $1.5 trillion during 2022.\n",
      "9. Coinbase's total trading volumes and transaction revenues fell 50% and 66% year-over-year, respectively.\n",
      "10. Trading revenue at Coinbase fell from $365.9 million in Q3 2022 to $322.1 million in Q4 2022.\n",
      "11. Coinbase's \"subscription and services revenue\" rose from $210.5 million in Q3 2022 to $282.8 million in Q4 2022.\n",
      "12. Monthly active developers in crypto have more than doubled since\n"
     ]
    }
   ],
   "source": [
    "print(facts)"
   ]
  },
  {
   "cell_type": "code",
   "execution_count": null,
   "id": "5bad1070",
   "metadata": {},
   "outputs": [],
   "source": []
  },
  {
   "cell_type": "code",
   "execution_count": 17,
   "id": "d0ef4381",
   "metadata": {},
   "outputs": [],
   "source": [
    "investor_update_prompt = PromptTemplate(\n",
    "    input_variables=[\"facts\"],\n",
    "    template=\"You are a Goldman Sachs analyst. Take the following list of facts and use them to write a short paragrah for investors. Don't leave out key info:\\n\\n {facts}\"\n",
    ")"
   ]
  },
  {
   "cell_type": "code",
   "execution_count": 18,
   "id": "f59bbcd3",
   "metadata": {},
   "outputs": [
    {
     "name": "stdout",
     "output_type": "stream",
     "text": [
      " the start of 2022.\n",
      "\n",
      "Coinbase released its Q4 2022 earnings on Tuesday, reporting total revenue of $605 million, which was slightly above Wall Street's expectations of $581.2 million. Despite the positive revenue figure, Coinbase reported a GAAP loss of $557 million in the three-month period. Coinbase's stock had risen 86% year-to-date before its Q4 earnings were released. Consumer trading volumes fell from $26 billion in Q3 2022 to $20 billion in Q4 2022, while institutional volumes across the same timeframe fell from $133 billion to $125 billion. The overall crypto market capitalization fell about 64%, or $1.5 trillion during 2022, leading to a 50% and 66% year-over-year decline in Coinbase's total trading volumes and transaction revenues, respectively. Trading revenue at Coinbase fell from $365.9 million in Q3 2022 to $322.1 million in Q4 2022, while its \"subscription and services revenue\" rose from $210.5 million in Q3 2022 to $282.8 million in Q4 2022. Despite the overall decline in the crypto market, monthly active developers in crypto have more than doubled since the start of 2022.\n"
     ]
    },
    {
     "data": {
      "text/plain": [
       "1105"
      ]
     },
     "execution_count": 18,
     "metadata": {},
     "output_type": "execute_result"
    }
   ],
   "source": [
    "investor_update_chain = LLMChain(llm=llm, prompt=investor_update_prompt)\n",
    "\n",
    "investor_update = investor_update_chain.run(facts)\n",
    "\n",
    "print(investor_update)\n",
    "len(investor_update)"
   ]
  },
  {
   "cell_type": "code",
   "execution_count": 19,
   "id": "a81a3aea",
   "metadata": {},
   "outputs": [],
   "source": [
    "triples_prompt = PromptTemplate(\n",
    "    input_variables=[\"facts\"],\n",
    "    template=\"Take the following list of facts and turn them into triples for a knowledge graph:\\n\\n {facts}\"\n",
    ")"
   ]
  },
  {
   "cell_type": "code",
   "execution_count": 20,
   "id": "8b0ca8f9",
   "metadata": {},
   "outputs": [
    {
     "name": "stdout",
     "output_type": "stream",
     "text": [
      " the start of 2022.\n",
      "\n",
      "1. (Coinbase, released, Q4 2022 earnings)\n",
      "2. (Coinbase, generated, $605 million total revenue)\n",
      "3. (Coinbase, lost, $557 million GAAP basis)\n",
      "4. (Wall Street, expected, $581.2 million revenue)\n",
      "5. (Coinbase's stock, risen, 86% year-to-date)\n",
      "6. (Consumer trading volumes, fell, $26 billion Q3 2022)\n",
      "7. (Institutional volumes, fell, $133 billion)\n",
      "8. (Overall crypto market capitalization, fell, $1.5 trillion)\n",
      "9. (Coinbase's total trading volumes, fell, 50% year-over-year)\n",
      "10. (Coinbase's transaction revenues, fell, 66% year-over-year)\n",
      "11. (Trading revenue, fell, $365.9 million Q3 2022)\n",
      "12. (Coinbase's subscription and services revenue, rose, $210.5 million Q3 2022)\n",
      "13. (Monthly active developers, more than doubled, since start of 2022)\n"
     ]
    },
    {
     "data": {
      "text/plain": [
       "758"
      ]
     },
     "execution_count": 20,
     "metadata": {},
     "output_type": "execute_result"
    }
   ],
   "source": [
    "triples_chain = LLMChain(llm=llm, prompt=triples_prompt)\n",
    "\n",
    "triples = triples_chain.run(facts)\n",
    "\n",
    "print(triples)\n",
    "len(triples)"
   ]
  },
  {
   "cell_type": "code",
   "execution_count": null,
   "id": "68f6f2b9",
   "metadata": {},
   "outputs": [],
   "source": []
  },
  {
   "cell_type": "code",
   "execution_count": 21,
   "id": "d4215e59",
   "metadata": {},
   "outputs": [],
   "source": [
    "from langchain.chains import SimpleSequentialChain, SequentialChain\n",
    "\n",
    "full_chain = SimpleSequentialChain(chains=[fact_extraction_chain, investor_update_chain], verbose=True)"
   ]
  },
  {
   "cell_type": "code",
   "execution_count": 22,
   "id": "2f7d19d0",
   "metadata": {},
   "outputs": [
    {
     "name": "stdout",
     "output_type": "stream",
     "text": [
      "\n",
      "\n",
      "\u001b[1m> Entering new  chain...\u001b[0m\n",
      "\u001b[36;1m\u001b[1;3m\n",
      "1. Coinbase released its Q4 2022 earnings on Tuesday.\n",
      "2. Coinbase generated $605 million in total revenue in Q4 2022.\n",
      "3. Coinbase lost $557 million in the three-month period on a GAAP basis.\n",
      "4. Wall Street expected Coinbase to report $581.2 million in revenue.\n",
      "5. Coinbase's stock had risen 86% year-to-date before its Q4 earnings were released.\n",
      "6. Consumer trading volumes fell from $26 billion in Q3 2022 to $20 billion in Q4 2022.\n",
      "7. Institutional volumes across the same timeframe fell from $133 billion to $125 billion.\n",
      "8. The overall crypto market capitalization fell about 64%, or $1.5 trillion during 2022.\n",
      "9. Coinbase's total trading volumes and transaction revenues fell 50% and 66% year-over-year, respectively.\n",
      "10. Trading revenue at Coinbase fell from $365.9 million in Q3 2022 to $322.1 million in Q4 2022.\n",
      "11. Coinbase's \"subscription and services revenue\" rose from $210.5 million in Q3 2022 to $282.8 million in Q4 2022.\n",
      "12. Monthly active developers in crypto have more than doubled since\u001b[0m\n",
      "\u001b[33;1m\u001b[1;3m the start of 2022.\n",
      "\n",
      "Coinbase released its Q4 2022 earnings on Tuesday, reporting total revenue of $605 million, which was slightly above Wall Street's expectations of $581.2 million. Despite the positive revenue figure, Coinbase reported a GAAP loss of $557 million in the three-month period. Coinbase's stock had risen 86% year-to-date before its Q4 earnings were released. Consumer trading volumes fell from $26 billion in Q3 2022 to $20 billion in Q4 2022, while institutional volumes across the same timeframe fell from $133 billion to $125 billion. The overall crypto market capitalization fell about 64%, or $1.5 trillion during 2022, leading to a 50% and 66% year-over-year decline in Coinbase's total trading volumes and transaction revenues, respectively. Trading revenue at Coinbase fell from $365.9 million in Q3 2022 to $322.1 million in Q4 2022, while its \"subscription and services revenue\" rose from $210.5 million in Q3 2022 to $282.8 million in Q4 2022. Despite the overall decline in the crypto market, monthly active developers in crypto have more than doubled since the start of 2022.\u001b[0m\n",
      "\n",
      "\u001b[1m> Finished chain.\u001b[0m\n"
     ]
    }
   ],
   "source": [
    "response = full_chain.run(article)"
   ]
  },
  {
   "cell_type": "code",
   "execution_count": 43,
   "id": "1cbd0292",
   "metadata": {},
   "outputs": [
    {
     "data": {
      "text/plain": [
       "' the start of 2022.\\n\\nCoinbase released its Q4 2022 earnings on Tuesday, reporting total revenue of $605 million, which was slightly above Wall Street\\'s expectations of $581.2 million. Despite the positive revenue figure, Coinbase reported a GAAP loss of $557 million in the three-month period. Coinbase\\'s stock had risen 86% year-to-date before its Q4 earnings were released. Consumer trading volumes fell from $26 billion in Q3 2022 to $20 billion in Q4 2022, while institutional volumes across the same timeframe fell from $133 billion to $125 billion. The overall crypto market capitalization fell about 64%, or $1.5 trillion during 2022, leading to a 50% and 66% year-over-year decline in Coinbase\\'s total trading volumes and transaction revenues, respectively. Trading revenue at Coinbase fell from $365.9 million in Q3 2022 to $322.1 million in Q4 2022, while its \"subscription and services revenue\" rose from $210.5 million in Q3 2022 to $282.8 million in Q4 2022. Despite the overall decline in the crypto market, monthly active developers in crypto have more than doubled since the start of 2022.'"
      ]
     },
     "execution_count": 43,
     "metadata": {},
     "output_type": "execute_result"
    }
   ],
   "source": [
    "response"
   ]
  },
  {
   "cell_type": "code",
   "execution_count": null,
   "id": "fa07c1c2",
   "metadata": {},
   "outputs": [],
   "source": []
  },
  {
   "cell_type": "code",
   "execution_count": 44,
   "id": "dd9f0765",
   "metadata": {},
   "outputs": [],
   "source": [
    "from langchain.chains import PALChain"
   ]
  },
  {
   "cell_type": "code",
   "execution_count": 60,
   "id": "3d2f66b3",
   "metadata": {},
   "outputs": [],
   "source": [
    "llm = OpenAI(model_name='text-davinci-001', \n",
    "             temperature=0, \n",
    "             max_tokens=512)"
   ]
  },
  {
   "cell_type": "code",
   "execution_count": 61,
   "id": "7038c75d",
   "metadata": {},
   "outputs": [],
   "source": [
    "pal_chain = PALChain.from_math_prompt(llm, verbose=True)"
   ]
  },
  {
   "cell_type": "code",
   "execution_count": 62,
   "id": "85d15268",
   "metadata": {},
   "outputs": [],
   "source": [
    "question = \"Jan has three times the number of pets as Marcia. Marcia has two more pets than Cindy. If Cindy has four pets, how many total pets do the three have?\""
   ]
  },
  {
   "cell_type": "code",
   "execution_count": 63,
   "id": "c881f660",
   "metadata": {},
   "outputs": [],
   "source": [
    "question_02= \"The cafeteria had 23 apples. If they used 20 for lunch and bought 6 more, how many apples do they have?\""
   ]
  },
  {
   "cell_type": "code",
   "execution_count": 64,
   "id": "c795db5d",
   "metadata": {},
   "outputs": [
    {
     "name": "stdout",
     "output_type": "stream",
     "text": [
      "\n",
      "\n",
      "\u001b[1m> Entering new  chain...\u001b[0m\n",
      "\u001b[32;1m\u001b[1;3mdef solution():\n",
      "    \"\"\"Jan has three times the number of pets as Marcia. Marcia has two more pets than Cindy. If Cindy has four pets, how many total pets do the three have?\"\"\"\n",
      "    pets_initial = 0\n",
      "    pets_marcia = 3\n",
      "    pets_cindy = 2\n",
      "    pets_jan = pets_marcia + pets_cindy\n",
      "    result = pets_jan\n",
      "    return result\u001b[0m\n",
      "\n",
      "\u001b[1m> Finished chain.\u001b[0m\n"
     ]
    },
    {
     "data": {
      "text/plain": [
       "'5'"
      ]
     },
     "execution_count": 64,
     "metadata": {},
     "output_type": "execute_result"
    }
   ],
   "source": [
    "pal_chain.run(question)"
   ]
  },
  {
   "cell_type": "code",
   "execution_count": null,
   "id": "daa7fe68",
   "metadata": {},
   "outputs": [],
   "source": []
  },
  {
   "cell_type": "code",
   "execution_count": 65,
   "id": "48e981ee",
   "metadata": {},
   "outputs": [],
   "source": [
    "from langchain import OpenAI\n",
    "from langchain.chains.api.prompt import API_RESPONSE_PROMPT\n",
    "\n",
    "from langchain.chains import APIChain\n",
    "from langchain.prompts.prompt import PromptTemplate"
   ]
  },
  {
   "cell_type": "code",
   "execution_count": 66,
   "id": "b34fb876",
   "metadata": {},
   "outputs": [],
   "source": [
    "llm = OpenAI(temperature=0,\n",
    "             max_tokens=100)"
   ]
  },
  {
   "cell_type": "code",
   "execution_count": 67,
   "id": "19fb6420",
   "metadata": {},
   "outputs": [],
   "source": [
    "from langchain.chains.api import open_meteo_docs\n",
    "chain_new = APIChain.from_llm_and_api_docs(llm, \n",
    "                                           open_meteo_docs.OPEN_METEO_DOCS, \n",
    "                                           verbose=True)"
   ]
  },
  {
   "cell_type": "code",
   "execution_count": 68,
   "id": "24d00c21",
   "metadata": {},
   "outputs": [
    {
     "name": "stdout",
     "output_type": "stream",
     "text": [
      "\n",
      "\n",
      "\u001b[1m> Entering new  chain...\u001b[0m\n",
      "\u001b[32;1m\u001b[1;3mhttps://api.open-meteo.com/v1/forecast?latitude=1.3&longitude=103.9&hourly=temperature_2m&current_weather=true&temperature_unit=celsius\u001b[0m\n",
      "\u001b[33;1m\u001b[1;3m{\"latitude\":1.375,\"longitude\":103.875,\"generationtime_ms\":2.498030662536621,\"utc_offset_seconds\":0,\"timezone\":\"GMT\",\"timezone_abbreviation\":\"GMT\",\"elevation\":6.0,\"current_weather\":{\"temperature\":27.4,\"windspeed\":5.2,\"winddirection\":168.0,\"weathercode\":1,\"is_day\":0,\"time\":\"2023-07-08T16:00\"},\"hourly_units\":{\"time\":\"iso8601\",\"temperature_2m\":\"°C\"},\"hourly\":{\"time\":[\"2023-07-08T00:00\",\"2023-07-08T01:00\",\"2023-07-08T02:00\",\"2023-07-08T03:00\",\"2023-07-08T04:00\",\"2023-07-08T05:00\",\"2023-07-08T06:00\",\"2023-07-08T07:00\",\"2023-07-08T08:00\",\"2023-07-08T09:00\",\"2023-07-08T10:00\",\"2023-07-08T11:00\",\"2023-07-08T12:00\",\"2023-07-08T13:00\",\"2023-07-08T14:00\",\"2023-07-08T15:00\",\"2023-07-08T16:00\",\"2023-07-08T17:00\",\"2023-07-08T18:00\",\"2023-07-08T19:00\",\"2023-07-08T20:00\",\"2023-07-08T21:00\",\"2023-07-08T22:00\",\"2023-07-08T23:00\",\"2023-07-09T00:00\",\"2023-07-09T01:00\",\"2023-07-09T02:00\",\"2023-07-09T03:00\",\"2023-07-09T04:00\",\"2023-07-09T05:00\",\"2023-07-09T06:00\",\"2023-07-09T07:00\",\"2023-07-09T08:00\",\"2023-07-09T09:00\",\"2023-07-09T10:00\",\"2023-07-09T11:00\",\"2023-07-09T12:00\",\"2023-07-09T13:00\",\"2023-07-09T14:00\",\"2023-07-09T15:00\",\"2023-07-09T16:00\",\"2023-07-09T17:00\",\"2023-07-09T18:00\",\"2023-07-09T19:00\",\"2023-07-09T20:00\",\"2023-07-09T21:00\",\"2023-07-09T22:00\",\"2023-07-09T23:00\",\"2023-07-10T00:00\",\"2023-07-10T01:00\",\"2023-07-10T02:00\",\"2023-07-10T03:00\",\"2023-07-10T04:00\",\"2023-07-10T05:00\",\"2023-07-10T06:00\",\"2023-07-10T07:00\",\"2023-07-10T08:00\",\"2023-07-10T09:00\",\"2023-07-10T10:00\",\"2023-07-10T11:00\",\"2023-07-10T12:00\",\"2023-07-10T13:00\",\"2023-07-10T14:00\",\"2023-07-10T15:00\",\"2023-07-10T16:00\",\"2023-07-10T17:00\",\"2023-07-10T18:00\",\"2023-07-10T19:00\",\"2023-07-10T20:00\",\"2023-07-10T21:00\",\"2023-07-10T22:00\",\"2023-07-10T23:00\",\"2023-07-11T00:00\",\"2023-07-11T01:00\",\"2023-07-11T02:00\",\"2023-07-11T03:00\",\"2023-07-11T04:00\",\"2023-07-11T05:00\",\"2023-07-11T06:00\",\"2023-07-11T07:00\",\"2023-07-11T08:00\",\"2023-07-11T09:00\",\"2023-07-11T10:00\",\"2023-07-11T11:00\",\"2023-07-11T12:00\",\"2023-07-11T13:00\",\"2023-07-11T14:00\",\"2023-07-11T15:00\",\"2023-07-11T16:00\",\"2023-07-11T17:00\",\"2023-07-11T18:00\",\"2023-07-11T19:00\",\"2023-07-11T20:00\",\"2023-07-11T21:00\",\"2023-07-11T22:00\",\"2023-07-11T23:00\",\"2023-07-12T00:00\",\"2023-07-12T01:00\",\"2023-07-12T02:00\",\"2023-07-12T03:00\",\"2023-07-12T04:00\",\"2023-07-12T05:00\",\"2023-07-12T06:00\",\"2023-07-12T07:00\",\"2023-07-12T08:00\",\"2023-07-12T09:00\",\"2023-07-12T10:00\",\"2023-07-12T11:00\",\"2023-07-12T12:00\",\"2023-07-12T13:00\",\"2023-07-12T14:00\",\"2023-07-12T15:00\",\"2023-07-12T16:00\",\"2023-07-12T17:00\",\"2023-07-12T18:00\",\"2023-07-12T19:00\",\"2023-07-12T20:00\",\"2023-07-12T21:00\",\"2023-07-12T22:00\",\"2023-07-12T23:00\",\"2023-07-13T00:00\",\"2023-07-13T01:00\",\"2023-07-13T02:00\",\"2023-07-13T03:00\",\"2023-07-13T04:00\",\"2023-07-13T05:00\",\"2023-07-13T06:00\",\"2023-07-13T07:00\",\"2023-07-13T08:00\",\"2023-07-13T09:00\",\"2023-07-13T10:00\",\"2023-07-13T11:00\",\"2023-07-13T12:00\",\"2023-07-13T13:00\",\"2023-07-13T14:00\",\"2023-07-13T15:00\",\"2023-07-13T16:00\",\"2023-07-13T17:00\",\"2023-07-13T18:00\",\"2023-07-13T19:00\",\"2023-07-13T20:00\",\"2023-07-13T21:00\",\"2023-07-13T22:00\",\"2023-07-13T23:00\",\"2023-07-14T00:00\",\"2023-07-14T01:00\",\"2023-07-14T02:00\",\"2023-07-14T03:00\",\"2023-07-14T04:00\",\"2023-07-14T05:00\",\"2023-07-14T06:00\",\"2023-07-14T07:00\",\"2023-07-14T08:00\",\"2023-07-14T09:00\",\"2023-07-14T10:00\",\"2023-07-14T11:00\",\"2023-07-14T12:00\",\"2023-07-14T13:00\",\"2023-07-14T14:00\",\"2023-07-14T15:00\",\"2023-07-14T16:00\",\"2023-07-14T17:00\",\"2023-07-14T18:00\",\"2023-07-14T19:00\",\"2023-07-14T20:00\",\"2023-07-14T21:00\",\"2023-07-14T22:00\",\"2023-07-14T23:00\"],\"temperature_2m\":[26.9,27.9,28.3,28.8,29.3,29.7,30.4,29.9,29.6,29.6,29.5,29.1,28.5,28.2,27.8,27.6,27.4,27.1,27.0,26.9,26.8,26.6,26.6,26.5,26.9,27.8,28.6,29.2,29.7,30.5,30.5,30.2,29.7,29.4,29.2,28.8,28.2,27.9,27.7,27.5,27.3,27.1,26.8,26.5,26.3,26.2,26.3,26.4,26.9,27.8,28.2,28.9,29.6,29.8,29.8,29.8,29.5,29.4,28.8,28.5,28.1,27.9,27.7,27.5,27.4,27.3,27.2,27.1,27.0,27.0,26.9,26.9,27.3,28.2,29.1,29.9,30.4,30.7,30.9,30.6,30.0,29.8,29.8,29.3,28.6,28.2,27.9,27.6,27.4,27.2,27.1,27.0,27.0,27.0,27.0,27.0,27.2,27.8,28.6,29.3,30.0,30.5,30.8,30.7,30.4,29.9,29.4,28.7,28.2,27.9,27.7,27.5,27.4,27.2,27.1,26.9,26.7,26.7,26.7,26.7,27.1,27.9,28.9,29.8,30.3,30.5,30.7,30.1,29.9,29.6,29.1,28.5,28.0,27.7,27.5,27.3,27.1,26.9,26.7,26.6,26.6,26.6,26.7,26.8,27.1,27.7,28.6,29.3,29.8,30.2,30.4,30.3,30.0,29.7,29.3,28.8,28.4,28.2,28.0,27.8,27.6,27.5,27.3,27.2,27.1,27.1,27.0,27.1]}}\u001b[0m\n",
      "\n",
      "\u001b[1m> Finished chain.\u001b[0m\n"
     ]
    },
    {
     "data": {
      "text/plain": [
       "' The temperature right now in Bedok, Singapore is 27.4 degrees Celcius.'"
      ]
     },
     "execution_count": 68,
     "metadata": {},
     "output_type": "execute_result"
    }
   ],
   "source": [
    "chain_new.run('What is the temperature like right now in Bedok, Singapore in degrees Celcius?')"
   ]
  },
  {
   "cell_type": "code",
   "execution_count": 69,
   "id": "b623ab88",
   "metadata": {},
   "outputs": [
    {
     "name": "stdout",
     "output_type": "stream",
     "text": [
      "\n",
      "\n",
      "\u001b[1m> Entering new  chain...\u001b[0m\n",
      "\u001b[32;1m\u001b[1;3mhttps://api.open-meteo.com/v1/forecast?latitude=1.3521&longitude=103.8198&current_weather=true&rain=true\u001b[0m\n",
      "\u001b[33;1m\u001b[1;3m{\"latitude\":1.375,\"longitude\":103.875,\"generationtime_ms\":0.4520416259765625,\"utc_offset_seconds\":0,\"timezone\":\"GMT\",\"timezone_abbreviation\":\"GMT\",\"elevation\":46.0,\"current_weather\":{\"temperature\":27.1,\"windspeed\":5.2,\"winddirection\":168.0,\"weathercode\":1,\"is_day\":0,\"time\":\"2023-07-08T16:00\"}}\u001b[0m\n",
      "\n",
      "\u001b[1m> Finished chain.\u001b[0m\n"
     ]
    },
    {
     "data": {
      "text/plain": [
       "' It is currently not raining in Singapore, with a temperature of 27.1°C, windspeed of 5.2 km/h, and wind direction of 168°.'"
      ]
     },
     "execution_count": 69,
     "metadata": {},
     "output_type": "execute_result"
    }
   ],
   "source": [
    "chain_new.run('Is it raining in Singapore?')"
   ]
  },
  {
   "cell_type": "code",
   "execution_count": null,
   "id": "17208434",
   "metadata": {},
   "outputs": [],
   "source": []
  }
 ],
 "metadata": {
  "kernelspec": {
   "display_name": "Python 3 (ipykernel)",
   "language": "python",
   "name": "python3"
  },
  "language_info": {
   "codemirror_mode": {
    "name": "ipython",
    "version": 3
   },
   "file_extension": ".py",
   "mimetype": "text/x-python",
   "name": "python",
   "nbconvert_exporter": "python",
   "pygments_lexer": "ipython3",
   "version": "3.9.5"
  }
 },
 "nbformat": 4,
 "nbformat_minor": 5
}
